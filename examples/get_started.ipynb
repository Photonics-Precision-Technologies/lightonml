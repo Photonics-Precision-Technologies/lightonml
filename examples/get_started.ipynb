{
 "cells": [
  {
   "cell_type": "markdown",
   "metadata": {},
   "source": [
    "# Get started with the OPU\n",
    "\n",
    "There are three ways to process data with an OPU:\n",
    "\n",
    " - [lightonml.OPU](../lightonml.opu.rst#lightonml.opu.OPU) with `numpy.ndarray` or `torch.Tensor`\n",
    " - [lightonml.projections.sklearn.OPUMap](../lightonml.projections.rst#lightonml.projections.sklearn.OPUMap) with `numpy.ndarray`\n",
    " - [lightonml.projections.torch.OPUMap](../lightonml.projections.rst#lightonml.projections.torch.OPUMap) with `torch.Tensor`\n",
    " \n",
    "For each of these way there's the possibility to run the OPU in a simulated manner, without access to a real OPU. _Check the last section of this notebook for details_."
   ]
  },
  {
   "cell_type": "code",
   "execution_count": 1,
   "metadata": {},
   "outputs": [],
   "source": [
    "import numpy as np\n",
    "import torch"
   ]
  },
  {
   "cell_type": "code",
   "execution_count": 4,
   "metadata": {},
   "outputs": [],
   "source": [
    "numpy_data = np.random.randint(0, 2, size=(3000, 10000), dtype=np.uint8)\n",
    "torch_data = torch.randint(0, 2, size=(3000, 10000), dtype=torch.uint8)"
   ]
  },
  {
   "cell_type": "markdown",
   "metadata": {},
   "source": [
    "### Lightonopu with numpy arrays or torch tensors\n",
    "\n",
    "The [OPU](../lightonml.opu.rst#lightonml.opu.OPU) class is low-level, and it is used internally in `lightonml` classes. This class does not offer fancy features for compatibility with third-party frameworks, but it is more versatile and can accept both `numpy.ndarray` and `torch.Tensor`."
   ]
  },
  {
   "cell_type": "code",
   "execution_count": null,
   "metadata": {
    "pycharm": {
     "is_executing": true
    }
   },
   "outputs": [],
   "source": [
    "from lightonml import OPU"
   ]
  },
  {
   "cell_type": "code",
   "execution_count": 8,
   "metadata": {},
   "outputs": [],
   "source": [
    "opu = OPU(n_components=10000)"
   ]
  },
  {
   "cell_type": "markdown",
   "metadata": {},
   "source": [
    "In the case of `OPU`, the user needs to call `.fit1d` if the input data is a collection of vectors, or `.fit2d` if it is a collection of matrices, at least once before calling `.transform`. Not doing so will result in an error."
   ]
  },
  {
   "cell_type": "code",
   "execution_count": 12,
   "metadata": {},
   "outputs": [
    {
     "name": "stdout",
     "output_type": "stream",
     "text": [
      "Call fit1d or fit2d before transform\n"
     ]
    }
   ],
   "source": [
    "try:\n",
    "    opu.transform(numpy_data)\n",
    "except AssertionError as e:\n",
    "    print(e)"
   ]
  },
  {
   "cell_type": "code",
   "execution_count": 13,
   "metadata": {},
   "outputs": [],
   "source": [
    "opu.fit1d(numpy_data)"
   ]
  },
  {
   "cell_type": "code",
   "execution_count": 15,
   "metadata": {},
   "outputs": [
    {
     "data": {
      "text/plain": [
       "ContextArray([[ 7, 13, 24, ...,  9, 10, 10],\n",
       "              [ 1,  5,  2, ...,  9,  2,  6],\n",
       "              [ 0,  1,  2, ..., 10, 12, 22],\n",
       "              ...,\n",
       "              [ 1,  2,  1, ..., 10, 12,  9],\n",
       "              [ 6,  5,  2, ..., 13,  7, 17],\n",
       "              [19,  8,  0, ..., 15, 36, 46]], dtype=uint8)"
      ]
     },
     "execution_count": 15,
     "metadata": {},
     "output_type": "execute_result"
    }
   ],
   "source": [
    "y_np = opu.transform(numpy_data)\n",
    "y_np"
   ]
  },
  {
   "cell_type": "markdown",
   "metadata": {},
   "source": [
    "When `OPU` processes numpy arrays, it returns a `ContextArray`, a simple subclass of `np.ndarray`, with a context attribute displaying the parameters chosen by `fit`. It can be turned into a `numpy.ndarray` by calling `np.array` on it."
   ]
  },
  {
   "cell_type": "code",
   "execution_count": 16,
   "metadata": {},
   "outputs": [
    {
     "data": {
      "text/plain": [
       "{'exposure_us': 400,\n",
       " 'frametime_us': 500,\n",
       " 'output_roi': ((0, 512), (2040, 64)),\n",
       " 'start': datetime.datetime(2020, 10, 9, 10, 27, 21, 223001),\n",
       " 'gain_dB': 0.0,\n",
       " 'end': datetime.datetime(2020, 10, 9, 10, 27, 22, 906459),\n",
       " 'input_roi': ((0, 0), (912, 1140)),\n",
       " 'n_ones': 514731,\n",
       " 'fmt_type': 'lined',\n",
       " 'fmt_factor': 103}"
      ]
     },
     "execution_count": 16,
     "metadata": {},
     "output_type": "execute_result"
    }
   ],
   "source": [
    "y_np.context.as_dict()"
   ]
  },
  {
   "cell_type": "code",
   "execution_count": 22,
   "metadata": {},
   "outputs": [
    {
     "data": {
      "text/plain": [
       "array([[ 1,  3,  7, ..., 21,  7,  2],\n",
       "       [13, 24, 24, ..., 12, 19, 23],\n",
       "       [ 5,  2,  2, ..., 13,  8, 13],\n",
       "       ...,\n",
       "       [ 4,  4,  6, ..., 15, 18, 19],\n",
       "       [10,  7, 14, ..., 12,  5,  3],\n",
       "       [14, 14, 11, ...,  6,  1, 14]], dtype=uint8)"
      ]
     },
     "execution_count": 22,
     "metadata": {},
     "output_type": "execute_result"
    }
   ],
   "source": [
    "np.array(y_np)"
   ]
  },
  {
   "cell_type": "markdown",
   "metadata": {},
   "source": [
    "The two calls can be combined with the methods `fit_transform1d` or `fit_transform2d`. There is no difference between the API for `numpy` arrays and `torch` Tensors, but `transform` will return a `tensor` and not `ContextArray` for the latter."
   ]
  },
  {
   "cell_type": "code",
   "execution_count": 17,
   "metadata": {},
   "outputs": [
    {
     "data": {
      "text/plain": [
       "tensor([[ 4,  5,  4,  ...,  5,  5, 21],\n",
       "        [ 8,  5,  3,  ...,  3,  5,  7],\n",
       "        [ 7, 11, 15,  ..., 16, 28, 33],\n",
       "        ...,\n",
       "        [ 4,  3,  1,  ..., 10,  5, 12],\n",
       "        [ 2, 11,  2,  ..., 12,  6,  1],\n",
       "        [ 0,  3,  2,  ..., 16, 33, 54]], dtype=torch.uint8)"
      ]
     },
     "execution_count": 17,
     "metadata": {},
     "output_type": "execute_result"
    }
   ],
   "source": [
    "y_torch = opu.fit_transform1d(torch_data)\n",
    "y_torch"
   ]
  },
  {
   "cell_type": "code",
   "execution_count": 18,
   "metadata": {},
   "outputs": [
    {
     "data": {
      "text/plain": [
       "ContextArray([[ 1,  3,  7, ..., 21,  7,  2],\n",
       "              [13, 24, 24, ..., 12, 19, 23],\n",
       "              [ 5,  2,  2, ..., 13,  8, 13],\n",
       "              ...,\n",
       "              [ 4,  4,  6, ..., 15, 18, 19],\n",
       "              [10,  7, 14, ..., 12,  5,  3],\n",
       "              [14, 14, 11, ...,  6,  1, 14]], dtype=uint8)"
      ]
     },
     "execution_count": 18,
     "metadata": {},
     "output_type": "execute_result"
    }
   ],
   "source": [
    "data_2d = np.random.randint(0, 2, size=(3000, 900, 900), dtype=np.uint8)\n",
    "opu.fit2d(data_2d)\n",
    "y = opu.transform(data_2d)\n",
    "y"
   ]
  },
  {
   "cell_type": "code",
   "execution_count": 19,
   "metadata": {},
   "outputs": [
    {
     "data": {
      "text/plain": [
       "{'exposure_us': 400,\n",
       " 'frametime_us': 500,\n",
       " 'output_roi': ((0, 512), (2040, 64)),\n",
       " 'start': datetime.datetime(2020, 10, 9, 10, 28, 27, 450896),\n",
       " 'gain_dB': 0.0,\n",
       " 'end': datetime.datetime(2020, 10, 9, 10, 28, 30, 819065),\n",
       " 'input_roi': ((6, 120), (900, 900)),\n",
       " 'n_ones': 634685,\n",
       " 'fmt_type': 'macro_2d',\n",
       " 'fmt_factor': 1}"
      ]
     },
     "execution_count": 19,
     "metadata": {},
     "output_type": "execute_result"
    }
   ],
   "source": [
    "y.context.as_dict()"
   ]
  },
  {
   "cell_type": "markdown",
   "metadata": {},
   "source": [
    "Remember to release the resources when you are done with them (you can also use a context manager)."
   ]
  },
  {
   "cell_type": "code",
   "execution_count": 25,
   "metadata": {},
   "outputs": [],
   "source": [
    "opu.close()"
   ]
  },
  {
   "cell_type": "markdown",
   "metadata": {},
   "source": [
    "### Lightonml with numpy arrays\n",
    "\n",
    "There is an [OPUMap](../lightonml.projections.rst#lightonml.projections.sklearn.OPUMap) class in `lightonml.projections.sklearn` that can process `numpy.ndarray`s and is built to be scikit-learn compatible: it can be embedded in pipelines, cross-validated, etc.\n",
    "\n",
    "In `OPUMap` classes, `.fit` automatically dispatches to `.fit1d` or `.fit2d`. It is also provided with the classical `fit_transform` method of the `sklearn` API."
   ]
  },
  {
   "cell_type": "code",
   "execution_count": 26,
   "metadata": {},
   "outputs": [],
   "source": [
    "from lightonml.projections.sklearn import OPUMap"
   ]
  },
  {
   "cell_type": "code",
   "execution_count": 27,
   "metadata": {},
   "outputs": [],
   "source": [
    "opumap_np = OPUMap(n_components=10000)"
   ]
  },
  {
   "cell_type": "code",
   "execution_count": 28,
   "metadata": {},
   "outputs": [
    {
     "data": {
      "text/plain": [
       "array([[ 7, 12, 22, ...,  8, 10, 11],\n",
       "       [ 2,  6,  2, ...,  9,  1,  6],\n",
       "       [ 1,  1,  3, ..., 10, 13, 23],\n",
       "       ...,\n",
       "       [ 1,  2,  1, ...,  9, 11,  9],\n",
       "       [ 6,  5,  2, ..., 12,  7, 16],\n",
       "       [19,  8,  1, ..., 15, 39, 47]], dtype=uint8)"
      ]
     },
     "execution_count": 28,
     "metadata": {},
     "output_type": "execute_result"
    }
   ],
   "source": [
    "output = opumap_np.fit_transform(numpy_data)\n",
    "output"
   ]
  },
  {
   "cell_type": "markdown",
   "metadata": {},
   "source": [
    "Since we are going to use a different object to \"talk\" with the OPU, we have to release the resource."
   ]
  },
  {
   "cell_type": "code",
   "execution_count": 29,
   "metadata": {},
   "outputs": [],
   "source": [
    "opumap_np.close()"
   ]
  },
  {
   "cell_type": "markdown",
   "metadata": {},
   "source": [
    "### Lightonml with torch tensors\n",
    "\n",
    "A second [OPUMap](../lightonml.projections.rst#lightonml.projections.torch.OPUMap) interface is available in `lightonml.projections.torch`. \n",
    "In this case `OPUMap` behaves as a `torch.nn.Module`: the object can be called on data.\n",
    "\n",
    "Note that the optical processing is not differentiable, so this operation will break the computational graph: gradients are not propagated through the optical transform. The `fit` method can be called explicitly, or it will be run on the first batch of data automatically."
   ]
  },
  {
   "cell_type": "code",
   "execution_count": 30,
   "metadata": {},
   "outputs": [],
   "source": [
    "from lightonml.projections.torch import OPUMap"
   ]
  },
  {
   "cell_type": "code",
   "execution_count": 31,
   "metadata": {},
   "outputs": [
    {
     "name": "stdout",
     "output_type": "stream",
     "text": [
      "OPU output is detached from the computational graph.\n"
     ]
    }
   ],
   "source": [
    "opumap_torch = OPUMap(n_components=10000)"
   ]
  },
  {
   "cell_type": "code",
   "execution_count": 32,
   "metadata": {},
   "outputs": [
    {
     "name": "stdout",
     "output_type": "stream",
     "text": [
      "OPUMap was not fit to data. Performing fit on the first batch with default parameters...\n"
     ]
    },
    {
     "data": {
      "text/plain": [
       "tensor([[ 3,  5,  5,  ...,  5,  5, 21],\n",
       "        [ 8,  7,  4,  ...,  3,  5,  7],\n",
       "        [ 8, 14, 18,  ..., 18, 29, 35],\n",
       "        ...,\n",
       "        [ 3,  4,  1,  ..., 12,  6, 13],\n",
       "        [ 2, 11,  4,  ..., 13,  7,  1],\n",
       "        [ 1,  3,  3,  ..., 16, 40, 56]], dtype=torch.uint8)"
      ]
     },
     "execution_count": 32,
     "metadata": {},
     "output_type": "execute_result"
    }
   ],
   "source": [
    "output = opumap_torch(torch_data)\n",
    "output"
   ]
  },
  {
   "cell_type": "code",
   "execution_count": 33,
   "metadata": {},
   "outputs": [],
   "source": [
    "opumap_torch.close()"
   ]
  },
  {
   "cell_type": "markdown",
   "metadata": {},
   "source": [
    "### Simulating an OPU\n",
    "\n",
    "If you don't have access to an OPU, you can simulate it on any machine, but keep in mind that the dimensions must be kept low, for example `n_components=1000` and `max_n_features=1000` will already use 1 GB of RAM.\n",
    "\n",
    "A real OPU doesn't these limitations because of the analogic nature of the transform matrix, it takes no compute memory at all.\n",
    "\n",
    "For the `OPU` class, instantiate it with the following code:"
   ]
  },
  {
   "cell_type": "code",
   "execution_count": null,
   "metadata": {},
   "outputs": [],
   "source": [
    "from lightonml.internal.simulated_device import SimulatedOpuDevice\n",
    "\n",
    "sim_device = SimulatedOpuDevice()\n",
    "opu = OPU(n_components=1000, max_n_features=1000, opu_device=sim_device)"
   ]
  },
  {
   "cell_type": "markdown",
   "metadata": {},
   "source": [
    "For the OPUMap classes, use the following code:"
   ]
  },
  {
   "cell_type": "code",
   "execution_count": null,
   "metadata": {},
   "outputs": [],
   "source": [
    "opumap = OPUMap(n_components=1000, max_n_features=1000, simulated=True)"
   ]
  }
 ],
 "metadata": {
  "kernelspec": {
   "name": "python3",
   "language": "python",
   "display_name": "Python 3"
  },
  "language_info": {
   "codemirror_mode": {
    "name": "ipython",
    "version": 3
   },
   "file_extension": ".py",
   "mimetype": "text/x-python",
   "name": "python",
   "nbconvert_exporter": "python",
   "pygments_lexer": "ipython3",
   "version": "3.8.5"
  }
 },
 "nbformat": 4,
 "nbformat_minor": 4
}
