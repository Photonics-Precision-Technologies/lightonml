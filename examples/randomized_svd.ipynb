{
 "cells": [
  {
   "cell_type": "markdown",
   "metadata": {},
   "source": [
    "# Dimensionality reduction\n",
    "\n",
    "Movielens-20m is a dataset consisting in 20 million ratings and 465,000 tag applications applied to 27.000 movies by 138.000 users. We use the Singular Value Decomposition algorithm to build a recommender system for movies."
   ]
  },
  {
   "cell_type": "code",
   "execution_count": 1,
   "metadata": {},
   "outputs": [],
   "source": [
    "from time import time\n",
    "import os\n",
    "import warnings\n",
    "warnings.filterwarnings('ignore')\n",
    "\n",
    "import numpy as np\n",
    "import pandas as pd\n",
    "import scipy.linalg.interpolative as sli\n",
    "\n",
    "from lightonml.datasets import movielens20m\n",
    "from lightonml.encoding.base import SeparatedBitPlanEncoder, MixingBitPlanDecoder\n",
    "from lightonml.projections.sklearn import OPUMap\n",
    "from lightonml.opu import OPU"
   ]
  },
  {
   "cell_type": "code",
   "execution_count": 2,
   "metadata": {},
   "outputs": [],
   "source": [
    "ratings, id_to_movie = movielens20m(processed=True, id_to_movie=True)\n",
    "ratings = ratings.astype('float32')"
   ]
  },
  {
   "cell_type": "code",
   "execution_count": 3,
   "metadata": {},
   "outputs": [
    {
     "data": {
      "text/html": [
       "<div>\n",
       "<style scoped>\n",
       "    .dataframe tbody tr th:only-of-type {\n",
       "        vertical-align: middle;\n",
       "    }\n",
       "\n",
       "    .dataframe tbody tr th {\n",
       "        vertical-align: top;\n",
       "    }\n",
       "\n",
       "    .dataframe thead th {\n",
       "        text-align: right;\n",
       "    }\n",
       "</style>\n",
       "<table border=\"1\" class=\"dataframe\">\n",
       "  <thead>\n",
       "    <tr style=\"text-align: right;\">\n",
       "      <th></th>\n",
       "      <th>movieId</th>\n",
       "      <th>title</th>\n",
       "      <th>genres</th>\n",
       "    </tr>\n",
       "  </thead>\n",
       "  <tbody>\n",
       "    <tr>\n",
       "      <th>0</th>\n",
       "      <td>1</td>\n",
       "      <td>Toy Story (1995)</td>\n",
       "      <td>Adventure|Animation|Children|Comedy|Fantasy</td>\n",
       "    </tr>\n",
       "    <tr>\n",
       "      <th>1</th>\n",
       "      <td>2</td>\n",
       "      <td>Jumanji (1995)</td>\n",
       "      <td>Adventure|Children|Fantasy</td>\n",
       "    </tr>\n",
       "    <tr>\n",
       "      <th>2</th>\n",
       "      <td>3</td>\n",
       "      <td>Grumpier Old Men (1995)</td>\n",
       "      <td>Comedy|Romance</td>\n",
       "    </tr>\n",
       "    <tr>\n",
       "      <th>3</th>\n",
       "      <td>4</td>\n",
       "      <td>Waiting to Exhale (1995)</td>\n",
       "      <td>Comedy|Drama|Romance</td>\n",
       "    </tr>\n",
       "    <tr>\n",
       "      <th>4</th>\n",
       "      <td>5</td>\n",
       "      <td>Father of the Bride Part II (1995)</td>\n",
       "      <td>Comedy</td>\n",
       "    </tr>\n",
       "  </tbody>\n",
       "</table>\n",
       "</div>"
      ],
      "text/plain": [
       "  movieId                               title  \\\n",
       "0       1                    Toy Story (1995)   \n",
       "1       2                      Jumanji (1995)   \n",
       "2       3             Grumpier Old Men (1995)   \n",
       "3       4            Waiting to Exhale (1995)   \n",
       "4       5  Father of the Bride Part II (1995)   \n",
       "\n",
       "                                        genres  \n",
       "0  Adventure|Animation|Children|Comedy|Fantasy  \n",
       "1                   Adventure|Children|Fantasy  \n",
       "2                               Comedy|Romance  \n",
       "3                         Comedy|Drama|Romance  \n",
       "4                                       Comedy  "
      ]
     },
     "execution_count": 3,
     "metadata": {},
     "output_type": "execute_result"
    }
   ],
   "source": [
    "df_m = pd.DataFrame(id_to_movie[1:], columns=id_to_movie[0])\n",
    "df_m.head()"
   ]
  },
  {
   "cell_type": "markdown",
   "metadata": {},
   "source": [
    "It's possible to get the raw data from `lightonml.datasets.movielens20m` by setting `processed=False`.\n",
    "The array returned with `processed=True` is the result of the following code snippet run on the raw data:\n",
    "\n",
    "```\n",
    "df = pd.DataFrame(ratings[1:], columns=ratings[0])\n",
    "df_m = pd.DataFrame(id_to_movie)\n",
    "n_movies = len(df.movieId.unique())\n",
    "n_users = len(df.userId.unique())\n",
    "print('n users: {} n_movies: {}'.format(n_movies, n_users))\n",
    "\n",
    "# create the user-item ranking matrix\n",
    "df = df.pivot(index='movieId', columns='userId', values='rating')\n",
    "ratings = df.values\n",
    "```"
   ]
  },
  {
   "cell_type": "code",
   "execution_count": 4,
   "metadata": {},
   "outputs": [],
   "source": [
    "# demeaning ignoring nans along users\n",
    "ratings -= np.nanmean(ratings, axis=0, keepdims=True)\n",
    "# set nans to zero after demeaning\n",
    "ratings[np.isnan(ratings)] = 0"
   ]
  },
  {
   "cell_type": "markdown",
   "metadata": {},
   "source": [
    "## Try SVD on original data"
   ]
  },
  {
   "cell_type": "code",
   "execution_count": 5,
   "metadata": {},
   "outputs": [
    {
     "name": "stdout",
     "output_type": "stream",
     "text": [
      "SVD requires too much memory.\n"
     ]
    }
   ],
   "source": [
    "try:\n",
    "    start = time()\n",
    "    u, s, v = np.linalg.svd(ratings)\n",
    "    svd_original = time() - start\n",
    "    print('Run SVD in {}'.format(svd_original))\n",
    "except MemoryError:\n",
    "    print('SVD requires too much memory.')"
   ]
  },
  {
   "cell_type": "markdown",
   "metadata": {},
   "source": [
    "Trying to perform SVD on the original data fails because of the high memory requirement of the algorithm.\n",
    "\n",
    "## Use randomized SVD instead\n",
    "\n",
    "Randomized SVD consists in reducing the dimensionality of the data through random projections before performing SVD. The randomized version of the algorithm reduces the memory requirements and also decreases the computational complexity from $O(kmn)$ to $O(mn \\log(k) + (m + n)k^2)$.\n",
    "\n",
    "Where $n$ is the number of samples, $m$ is the number of features, and $k$ is the number random features.\n",
    "\n",
    "We follow algorithm 5.2 in *Finding structure with randomness: Probabilistic algorithms for constructing approximate matrix decompositions*, Halko et al., 2009."
   ]
  },
  {
   "cell_type": "code",
   "execution_count": 6,
   "metadata": {},
   "outputs": [],
   "source": [
    "def interp_dec(A, k):\n",
    "    idx, proj = sli.interp_decomp(A.astype('float64'), k)\n",
    "    X = np.hstack([np.eye(k), proj])[:, np.argsort(idx)]\n",
    "    return idx[:k], X\n",
    "\n",
    "\n",
    "def randomize(x, k, thresh=0):\n",
    "    mapping = OPUMap(n_components=k)\n",
    "    x = (x > thresh).astype('uint8')\n",
    "    y = mapping.transform(x)\n",
    "    return y\n",
    "\n",
    "\n",
    "def svd(x_proj, x, k):\n",
    "    x_proj = np.dot(x, np.dot(x.T, x_proj))\n",
    "    J, X = interp_dec(x_proj.T, k)\n",
    "    Q1, R1 = np.linalg.qr(x[J, :])\n",
    "    U, s, Vt = np.linalg.svd(np.dot(X.T, Q1))\n",
    "    V = np.dot(Vt[:k, :], R1)\n",
    "    return U[:, :k], s, V\n",
    "\n",
    "\n",
    "def top_cosine_similarity(data, movie_id, top_n=10):\n",
    "    index = movie_id - 1\n",
    "    movie_row = data[index, :]\n",
    "    magnitude = np.sqrt(np.einsum('ij, ij -> i', data, data))\n",
    "    similarity = np.dot(movie_row, data.T) / (magnitude[index] * magnitude)\n",
    "    sort_indices = np.argsort(-similarity)+1\n",
    "    return sort_indices[:top_n]"
   ]
  },
  {
   "cell_type": "code",
   "execution_count": 7,
   "metadata": {},
   "outputs": [],
   "source": [
    "k = 100\n",
    "start = time()\n",
    "ratings_proj = randomize(ratings, k)\n",
    "rp_time = time() - start"
   ]
  },
  {
   "cell_type": "code",
   "execution_count": 8,
   "metadata": {},
   "outputs": [],
   "source": [
    "c = 100\n",
    "start = time()\n",
    "u, s, v = svd(ratings_proj, ratings, c)\n",
    "svd_time = time() - start\n",
    "reconstruction = np.dot(u * s, v)"
   ]
  },
  {
   "cell_type": "code",
   "execution_count": 9,
   "metadata": {},
   "outputs": [],
   "source": [
    "del ratings_proj"
   ]
  },
  {
   "cell_type": "code",
   "execution_count": 10,
   "metadata": {},
   "outputs": [
    {
     "name": "stdout",
     "output_type": "stream",
     "text": [
      "Total time: 58.92\n",
      "RMSE: 0.1099\n"
     ]
    }
   ],
   "source": [
    "print('Total time: {:.2f}'.format(rp_time + svd_time))\n",
    "print('RMSE: {:.4f}'.format(np.sqrt(np.mean((reconstruction-ratings)**2))))"
   ]
  },
  {
   "cell_type": "code",
   "execution_count": 11,
   "metadata": {},
   "outputs": [],
   "source": [
    "# keep only important singular values (90% of energy)\n",
    "energy = 0\n",
    "for i, el in enumerate(s):\n",
    "    energy += el\n",
    "    if energy > (s**2).sum()*0.9:\n",
    "        break\n",
    "k = i"
   ]
  },
  {
   "cell_type": "code",
   "execution_count": 12,
   "metadata": {},
   "outputs": [
    {
     "name": "stdout",
     "output_type": "stream",
     "text": [
      "Query: Toy Story (1995), Adventure|Animation|Children|Comedy|Fantasy\n",
      "Recommended: Toy Story 2 (1999), Adventure|Animation|Children|Comedy|Fantasy\n"
     ]
    }
   ],
   "source": [
    "movie_id = 1\n",
    "top_n = 2\n",
    "sliced = u[:, :k]\n",
    "indices = top_cosine_similarity(sliced, movie_id, top_n)\n",
    "print('Query: {}, {}'.format(df_m.loc[0].title, df_m.loc[0].genres))\n",
    "\n",
    "for idx in indices[1:]:\n",
    "    print('Recommended: {}, {}'.format(df_m.loc[idx-1].title, \n",
    "                                       df_m.loc[idx-1].genres))"
   ]
  }
 ],
 "metadata": {
  "kernelspec": {
   "display_name": "Python 3",
   "language": "python",
   "name": "python3"
  },
  "language_info": {
   "codemirror_mode": {
    "name": "ipython",
    "version": 3
   },
   "file_extension": ".py",
   "mimetype": "text/x-python",
   "name": "python",
   "nbconvert_exporter": "python",
   "pygments_lexer": "ipython3",
   "version": "3.7.6"
  }
 },
 "nbformat": 4,
 "nbformat_minor": 4
}