{
 "cells": [
  {
   "cell_type": "markdown",
   "metadata": {},
   "source": [
    "# Randomized Linear Algebra\n",
    "\n",
    "\n",
    "This notebook aims to show the utility of the Lighton OPU for randomized linear algebra tasks. See https://arxiv.org/abs/2104.14429 for more details.\n"
   ]
  },
  {
   "cell_type": "code",
   "execution_count": 1,
   "metadata": {},
   "outputs": [],
   "source": [
    "import lightonml\n",
    "from lightonml import OPU\n",
    "import numpy as np\n",
    "from lightonml.encoding import base\n",
    "from tqdm.notebook import tqdm"
   ]
  },
  {
   "cell_type": "code",
   "execution_count": 2,
   "metadata": {},
   "outputs": [],
   "source": [
    "opu = OPU(n_components = 2000)"
   ]
  },
  {
   "cell_type": "markdown",
   "metadata": {},
   "source": [
    "The lighton OPU internally does random projections of binary vectors. However, for randomized linear algebra we generally need linear projections of _floating_ _point_ inputs.\n",
    "\n",
    "To make a linear proections with binary inputs, it is sufficient to call `opu.linear_transform`.\n",
    "\n",
    "To handle floating point inputs, we use the encoders from `lightonml.encoding`. In particular we will use `SeparatedBitPlanEncoder` which will split the input into mutliple bit planes and then transform them one after the other. `SeparatedBitPlanEncoder` will then recombine it, preserving the linear projection.\n"
   ]
  },
  {
   "cell_type": "code",
   "execution_count": 3,
   "metadata": {},
   "outputs": [],
   "source": [
    "encoder = base.SeparatedBitPlanEncoder\n",
    "decoder = base.SeparatedBitPlanDecoder"
   ]
  },
  {
   "cell_type": "markdown",
   "metadata": {},
   "source": [
    "We will now showcase three applications of randomized linear algebra Trace Estimation, Triangle Estimation and Randomized SVD.\n",
    "\n",
    "For trace estimation we consider Hutchinson’s estimator $Tr(A) \\approx Tr(R^\\top AR)$\n",
    "\n",
    "Where $R$ is an appropriately scaled normal random matrix.\n",
    "\n",
    "We can achieve this with the following code:"
   ]
  },
  {
   "cell_type": "code",
   "execution_count": 4,
   "metadata": {},
   "outputs": [],
   "source": [
    "def trace_estimation(A, m):\n",
    "    n = A.shape[0]\n",
    "    opu.fit1d(A)\n",
    "    s = np.random.normal(0,1,(100, n))\n",
    "\n",
    "    opu_var = opu.linear_transform(s, encoder, decoder).var()\n",
    "    AR   = opu.linear_transform(A,    encoder, decoder)[:, :m]\n",
    "    RTAR = opu.linear_transform(AR.T, encoder, decoder)[:, :m]\n",
    "    return RTAR.trace() / m * n / opu_var"
   ]
  },
  {
   "cell_type": "markdown",
   "metadata": {},
   "source": [
    "For triangle estimation we combine Hutchinson’s estimator with sketched matrix multiplication, which gives the following expression:\n",
    "\n",
    "$Tr(A^3) \\approx Tr(R^\\top AR)^3$\n"
   ]
  },
  {
   "cell_type": "code",
   "execution_count": 5,
   "metadata": {},
   "outputs": [],
   "source": [
    "def triangle_estimation(A, m):\n",
    "    n = A.shape[0]\n",
    "    opu.fit1d(A)\n",
    "    s = np.random.normal(0,1,(100, n))\n",
    "\n",
    "    opu_var = opu.linear_transform(s, encoder, decoder).var()\n",
    "    AR   = opu.linear_transform(A,    encoder, decoder)[:, :m]\n",
    "    RTAR = opu.linear_transform(AR.T, encoder, decoder)[:, :m]\n",
    "    return np.linalg.matrix_power(RTAR/ opu_var*n/m,3).trace()\n"
   ]
  },
  {
   "cell_type": "markdown",
   "metadata": {},
   "source": [
    "Finally, following the procedure in Halko et al, the singular value decompositon can also be approximated using RandNLA.\n",
    "This procedure can also be accelearated using the OPU."
   ]
  },
  {
   "cell_type": "code",
   "execution_count": 6,
   "metadata": {},
   "outputs": [],
   "source": [
    "def randomized_svd(A, m, num_iter = 0):\n",
    "    Q = opu.linear_transform(A, encoder, decoder)[:, :m]\n",
    "    opu.fit1d(A)\n",
    "    Q, _ = np.linalg.qr(Q)\n",
    "    for it in range(num_iter): # power_iteration\n",
    "        Q = A@Q\n",
    "        Q, _ = np.linalg.qr(Q)\n",
    "        Q = (Q.T@ A).T\n",
    "        Q, _ = np.linalg.qr(Q)\n",
    "    U, s, Ra = np.linalg.svd(A@Q, full_matrices=False)\n",
    "    Va = Ra@Q.T\n",
    "    return U[:, :m], s[:m], Va[:m, :]"
   ]
  },
  {
   "cell_type": "code",
   "execution_count": 7,
   "metadata": {},
   "outputs": [],
   "source": [
    "def relative_error(approximtion, correct):\n",
    "    return np.linalg.norm(approximtion-correct)/ np.linalg.norm(correct)"
   ]
  },
  {
   "cell_type": "markdown",
   "metadata": {},
   "source": [
    "## Testing the functions"
   ]
  },
  {
   "cell_type": "markdown",
   "metadata": {},
   "source": [
    "### Trace Estimation"
   ]
  },
  {
   "cell_type": "code",
   "execution_count": 8,
   "metadata": {},
   "outputs": [],
   "source": [
    "A = np.random.uniform(0,1,(2000,2000))\n",
    "opu.fit1d(A)\n",
    "m = 200\n",
    "estimated_trace= trace_estimation(A, m)\n",
    "real_trace = np.trace(A)"
   ]
  },
  {
   "cell_type": "code",
   "execution_count": 9,
   "metadata": {},
   "outputs": [
    {
     "name": "stdout",
     "output_type": "stream",
     "text": [
      "Estimated Trace: 1045.87\n",
      "Real Trace:      990.05\n",
      "RelativeError:   0.05\n"
     ]
    }
   ],
   "source": [
    "print(\"Estimated Trace: {:.2f}\\nReal Trace:      {:.2f}\\nRelativeError:   {:.2f}\".format(estimated_trace, real_trace, relative_error(real_trace, estimated_trace)))"
   ]
  },
  {
   "cell_type": "markdown",
   "metadata": {},
   "source": [
    "### Triangle Estimation"
   ]
  },
  {
   "cell_type": "code",
   "execution_count": 10,
   "metadata": {},
   "outputs": [],
   "source": [
    "import networkx as nx\n",
    "graph = nx.generators.random_graphs.barabasi_albert_graph(2000, 500)\n",
    "A = np.array(nx.linalg.graphmatrix.adjacency_matrix(graph).todense())\n",
    "opu.fit1d(A)\n",
    "m = 200\n",
    "estimated_tris= triangle_estimation(A, m)\n",
    "real_tris = np.trace(np.linalg.matrix_power(A,3))\n"
   ]
  },
  {
   "cell_type": "code",
   "execution_count": 11,
   "metadata": {},
   "outputs": [
    {
     "name": "stdout",
     "output_type": "stream",
     "text": [
      "Estimated Triangles: 783703186.68\n",
      "Real Triangles:      586469286.00\n",
      "RelativeError:       0.34\n"
     ]
    }
   ],
   "source": [
    "print(\"Estimated Triangles: {:.2f}\\nReal Triangles:      {:.2f}\\nRelativeError:       {:.2f}\".format(estimated_tris, real_tris, relative_error(estimated_tris, real_tris)))"
   ]
  },
  {
   "cell_type": "markdown",
   "metadata": {},
   "source": [
    "### Randomized SVD "
   ]
  },
  {
   "cell_type": "code",
   "execution_count": 12,
   "metadata": {},
   "outputs": [],
   "source": [
    "A = np.random.normal(0,1,(2000,2000))\n",
    "opu.fit1d(A)\n",
    "m = 1000\n",
    "# randomized svd.\n",
    "Ur, Sr, Vr = randomized_svd(A, m, num_iter = 2)\n",
    "# exact (truncated) svd.\n",
    "Ue, Se, Ve = np.linalg.svd(A)"
   ]
  },
  {
   "cell_type": "code",
   "execution_count": 13,
   "metadata": {},
   "outputs": [],
   "source": [
    "relative_error_rsvd = relative_error(Ur@np.diag(Sr)@Vr, A)\n",
    "relative_error_tsvd = relative_error(Ue[:, :m]@np.diag(Se[:m])@Ve[:m,:], A)"
   ]
  },
  {
   "cell_type": "code",
   "execution_count": 14,
   "metadata": {},
   "outputs": [
    {
     "name": "stdout",
     "output_type": "stream",
     "text": [
      "Truncated SVD:  0.326\n",
      "Randomized SVD: 0.351\n"
     ]
    }
   ],
   "source": [
    "print(\"Truncated SVD:  {:.3f}\\nRandomized SVD: {:.3f}\".format(relative_error_tsvd, relative_error_rsvd))"
   ]
  },
  {
   "cell_type": "code",
   "execution_count": null,
   "metadata": {},
   "outputs": [],
   "source": []
  }
 ],
 "metadata": {
  "kernelspec": {
   "display_name": "Python 3",
   "language": "python",
   "name": "python3"
  },
  "language_info": {
   "codemirror_mode": {
    "name": "ipython",
    "version": 3
   },
   "file_extension": ".py",
   "mimetype": "text/x-python",
   "name": "python",
   "nbconvert_exporter": "python",
   "pygments_lexer": "ipython3",
   "version": "3.8.1"
  }
 },
 "nbformat": 4,
 "nbformat_minor": 4
}
