{
 "cells": [
  {
   "cell_type": "markdown",
   "metadata": {},
   "source": [
    "# Training a binary autoencoder\n",
    "This tutorial explains how to train a binary autoencoder in order to obtain a satisfying encoding of your data, to be used as input to the OPU. The architecture and training procedure is adapted from https://arxiv.org/abs/1803.09065."
   ]
  },
  {
   "cell_type": "code",
   "execution_count": 1,
   "metadata": {},
   "outputs": [],
   "source": [
    "import matplotlib.pyplot as plt\n",
    "import numpy as np\n",
    "\n",
    "from sklearn.datasets import make_blobs\n",
    "from sklearn.decomposition import PCA\n",
    "\n",
    "import torch\n",
    "import torch.nn as nn\n",
    "import torch.nn.functional as F\n",
    "import torch.optim as optim\n",
    "from torch.utils.data import DataLoader, TensorDataset"
   ]
  },
  {
   "cell_type": "code",
   "execution_count": 2,
   "metadata": {},
   "outputs": [],
   "source": [
    "# fake data\n",
    "n_samples = 1000\n",
    "n_features = 100\n",
    "X = torch.FloatTensor(n_samples, n_features).normal_()\n",
    "y = torch.FloatTensor(n_samples, n_features).normal_()"
   ]
  },
  {
   "cell_type": "markdown",
   "metadata": {},
   "source": [
    "In the next cell, we define the autoencoder. The encoder consists of a linear layer, followed by a step function, yielding the binary representation of the data. The decoder is simply the transpose of the encoder. This allows us to learn only the decoder via backprop, which will change the encoder at the same time. The non-differentiable activation is therefore not a problem."
   ]
  },
  {
   "cell_type": "code",
   "execution_count": 3,
   "metadata": {},
   "outputs": [],
   "source": [
    "from lightonml.encoding.models import EncoderDecoder\n",
    "from lightonml.encoding.models import train"
   ]
  },
  {
   "cell_type": "code",
   "execution_count": 4,
   "metadata": {},
   "outputs": [],
   "source": [
    "batch_size = 64\n",
    "loader = DataLoader(TensorDataset(X, y), batch_size=batch_size)"
   ]
  },
  {
   "cell_type": "code",
   "execution_count": 5,
   "metadata": {},
   "outputs": [],
   "source": [
    "bits_per_feature = 10\n",
    "encoder = EncoderDecoder(n_features, n_features * bits_per_feature)\n",
    "optimizer = optim.Adam(encoder.parameters(), lr=1e-3)"
   ]
  },
  {
   "cell_type": "markdown",
   "metadata": {},
   "source": [
    "A newly created encoder is in `training` mode and will return the reconstructed input:"
   ]
  },
  {
   "cell_type": "code",
   "execution_count": 6,
   "metadata": {},
   "outputs": [
    {
     "data": {
      "text/plain": [
       "True"
      ]
     },
     "execution_count": 6,
     "metadata": {},
     "output_type": "execute_result"
    }
   ],
   "source": [
    "encoder.training"
   ]
  },
  {
   "cell_type": "markdown",
   "metadata": {},
   "source": [
    "We now train it on our data, it is quite fast. The `train` function from `lightonml.encoding.models` will automatically move the encoder to GPU if one is available."
   ]
  },
  {
   "cell_type": "code",
   "execution_count": 7,
   "metadata": {},
   "outputs": [
    {
     "name": "stdout",
     "output_type": "stream",
     "text": [
      "Epoch: [1/10], Training Loss: 2.3014791309833527\n",
      "Epoch: [2/10], Training Loss: 0.8861304149031639\n",
      "Epoch: [3/10], Training Loss: 0.3710668683052063\n",
      "Epoch: [4/10], Training Loss: 0.2224256880581379\n",
      "Epoch: [5/10], Training Loss: 0.1813957393169403\n",
      "Epoch: [6/10], Training Loss: 0.1691401358693838\n",
      "Epoch: [7/10], Training Loss: 0.16524941101670265\n",
      "Epoch: [8/10], Training Loss: 0.16412055306136608\n",
      "Epoch: [9/10], Training Loss: 0.16388304345309734\n",
      "Epoch: [10/10], Training Loss: 0.16382171772420406\n"
     ]
    }
   ],
   "source": [
    "model = train(encoder, loader, optimizer, criterion=F.mse_loss, epochs=10)"
   ]
  },
  {
   "cell_type": "markdown",
   "metadata": {},
   "source": [
    "We set the encoder to `eval` mode:"
   ]
  },
  {
   "cell_type": "code",
   "execution_count": 8,
   "metadata": {},
   "outputs": [
    {
     "data": {
      "text/plain": [
       "False"
      ]
     },
     "execution_count": 8,
     "metadata": {},
     "output_type": "execute_result"
    }
   ],
   "source": [
    "model.eval()\n",
    "model.training"
   ]
  },
  {
   "cell_type": "markdown",
   "metadata": {},
   "source": [
    "It is ready to encode:"
   ]
  },
  {
   "cell_type": "code",
   "execution_count": 9,
   "metadata": {},
   "outputs": [
    {
     "data": {
      "text/plain": [
       "(torch.Size([1000, 1000]), torch.uint8, tensor([0, 1], dtype=torch.uint8))"
      ]
     },
     "execution_count": 9,
     "metadata": {},
     "output_type": "execute_result"
    }
   ],
   "source": [
    "# we move the data to the GPU where the encoder lives \n",
    "# and fetch the binary code from it\n",
    "Xenc = encoder(X.to('cuda')).cpu()\n",
    "Xenc.shape, Xenc.dtype, torch.unique(Xenc)"
   ]
  },
  {
   "cell_type": "markdown",
   "metadata": {},
   "source": [
    "Of course, `encoder` can also be used on validation and test data, that weren't used to train the autoencoder.\n",
    "\n",
    "## Using a \"real\" toy dataset"
   ]
  },
  {
   "cell_type": "code",
   "execution_count": 10,
   "metadata": {},
   "outputs": [],
   "source": [
    "n_samples = 10000\n",
    "n_features = 50\n",
    "X, y = make_blobs(n_samples=n_samples, n_features=n_features, centers=5)"
   ]
  },
  {
   "cell_type": "markdown",
   "metadata": {},
   "source": [
    "We visualise a PCA of the data:"
   ]
  },
  {
   "cell_type": "code",
   "execution_count": 11,
   "metadata": {},
   "outputs": [],
   "source": [
    "pca = PCA(n_components=2)\n",
    "X_pca = pca.fit_transform(X)"
   ]
  },
  {
   "cell_type": "code",
   "execution_count": 12,
   "metadata": {},
   "outputs": [
    {
     "data": {
      "text/plain": [
       "<matplotlib.legend.Legend at 0x7f31a0ca6b90>"
      ]
     },
     "execution_count": 12,
     "metadata": {},
     "output_type": "execute_result"
    },
    {
     "data": {
      "image/png": "[encoded data removed]",
      "text/plain": [
       "<Figure size 432x432 with 1 Axes>"
      ]
     },
     "metadata": {
      "needs_background": "light"
     },
     "output_type": "display_data"
    }
   ],
   "source": [
    "fig, ax = plt.subplots(figsize=(6,6))\n",
    "for i in np.unique(y):\n",
    "    ax.scatter(X_pca[y==i,0], X_pca[y==i,1], s=2, label='y={}'.format(i))\n",
    "    \n",
    "ax.legend()"
   ]
  },
  {
   "cell_type": "markdown",
   "metadata": {},
   "source": [
    "We see the 5 clusters created by `make_blobs`. Ideally, our encoder should preserve this structure in the binary encoding. Let us encode the data:"
   ]
  },
  {
   "cell_type": "code",
   "execution_count": 13,
   "metadata": {},
   "outputs": [],
   "source": [
    "X = torch.from_numpy(X).float()  # by default X in numpy is double, so we cast to float\n",
    "loader = DataLoader(TensorDataset(X, X), batch_size=batch_size)  # loader in `train` assumes a tuple"
   ]
  },
  {
   "cell_type": "code",
   "execution_count": 14,
   "metadata": {},
   "outputs": [],
   "source": [
    "encoder = EncoderDecoder(n_features, n_features * bits_per_feature)\n",
    "optimizer = optim.Adam(encoder.parameters(), lr=1e-3)"
   ]
  },
  {
   "cell_type": "code",
   "execution_count": 15,
   "metadata": {},
   "outputs": [
    {
     "data": {
      "text/plain": [
       "True"
      ]
     },
     "execution_count": 15,
     "metadata": {},
     "output_type": "execute_result"
    }
   ],
   "source": [
    "encoder.training"
   ]
  },
  {
   "cell_type": "code",
   "execution_count": 16,
   "metadata": {},
   "outputs": [
    {
     "name": "stdout",
     "output_type": "stream",
     "text": [
      "Epoch: [1/10], Training Loss: 13.238989744976069\n",
      "Epoch: [2/10], Training Loss: 11.991056302550492\n",
      "Epoch: [3/10], Training Loss: 11.954815147788661\n",
      "Epoch: [4/10], Training Loss: 11.934128815960733\n",
      "Epoch: [5/10], Training Loss: 11.907846177459522\n",
      "Epoch: [6/10], Training Loss: 11.904737241708549\n",
      "Epoch: [7/10], Training Loss: 11.902793859979909\n",
      "Epoch: [8/10], Training Loss: 11.902872765899463\n",
      "Epoch: [9/10], Training Loss: 11.903905589109772\n",
      "Epoch: [10/10], Training Loss: 11.904929732061495\n"
     ]
    }
   ],
   "source": [
    "model = train(encoder, loader, optimizer, criterion=F.mse_loss, epochs=10)"
   ]
  },
  {
   "cell_type": "code",
   "execution_count": 17,
   "metadata": {},
   "outputs": [
    {
     "data": {
      "text/plain": [
       "(torch.Size([10000, 500]), torch.uint8, tensor([0, 1], dtype=torch.uint8))"
      ]
     },
     "execution_count": 17,
     "metadata": {},
     "output_type": "execute_result"
    }
   ],
   "source": [
    "encoder.eval()\n",
    "# we move the encoder to cpu, but we could also move the data to GPU\n",
    "# for faster processing as we did before\n",
    "encoder.to('cpu')\n",
    "Xenc = encoder(X)\n",
    "Xenc.shape, Xenc.dtype, torch.unique(Xenc)"
   ]
  },
  {
   "cell_type": "markdown",
   "metadata": {},
   "source": [
    "And we visualize it again:"
   ]
  },
  {
   "cell_type": "code",
   "execution_count": 18,
   "metadata": {},
   "outputs": [],
   "source": [
    "pca = PCA(n_components=2)\n",
    "Xenc_pca = pca.fit_transform(Xenc.numpy())"
   ]
  },
  {
   "cell_type": "code",
   "execution_count": 19,
   "metadata": {},
   "outputs": [
    {
     "data": {
      "text/plain": [
       "<matplotlib.legend.Legend at 0x7f31a056b890>"
      ]
     },
     "execution_count": 19,
     "metadata": {},
     "output_type": "execute_result"
    },
    {
     "data": {
      "image/png": "[encoded data removed]",
      "text/plain": [
       "<Figure size 432x432 with 1 Axes>"
      ]
     },
     "metadata": {
      "needs_background": "light"
     },
     "output_type": "display_data"
    }
   ],
   "source": [
    "fig, ax = plt.subplots(figsize=(6,6))\n",
    "for i in np.unique(y):\n",
    "    ax.scatter(Xenc_pca[y==i,0], Xenc_pca[y==i,1], s=2, label='y={}'.format(i))\n",
    "    \n",
    "ax.legend()"
   ]
  },
  {
   "cell_type": "markdown",
   "metadata": {},
   "source": [
    "The 5 original clusters are well preserved. The encoder does its job !"
   ]
  }
 ],
 "metadata": {
  "kernelspec": {
   "display_name": "Python 3",
   "language": "python",
   "name": "python3"
  },
  "language_info": {
   "codemirror_mode": {
    "name": "ipython",
    "version": 3
   },
   "file_extension": ".py",
   "mimetype": "text/x-python",
   "name": "python",
   "nbconvert_exporter": "python",
   "pygments_lexer": "ipython3",
   "version": "3.7.6"
  },
  "pycharm": {
   "stem_cell": {
    "cell_type": "raw",
    "metadata": {
     "collapsed": false
    },
    "source": []
   }
  }
 },
 "nbformat": 4,
 "nbformat_minor": 4
}
