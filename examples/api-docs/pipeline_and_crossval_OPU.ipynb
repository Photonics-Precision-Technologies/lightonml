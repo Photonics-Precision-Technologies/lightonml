{
 "cells": [
  {
   "cell_type": "markdown",
   "metadata": {},
   "source": [
    "# Scikit-learn Pipeline and GridSearchCV with the OPU\n",
    "\n",
    "You can use the [OPUMap](../lightonml.projections.rst#lightonml.projections.sklearn.OPUMap)\n",
    "wrapper for `sklearn` in `lightonml.projections.sklearn`\n",
    "in a `Pipeline` and for example run a grid search on parameters using `GridSearchCV`.\n",
    "\n",
    "In this notebook is also shown the use of a simulated OPU in case you don't have access to a real one."
   ]
  },
  {
   "cell_type": "code",
   "execution_count": 1,
   "metadata": {
    "pycharm": {
     "is_executing": true
    }
   },
   "outputs": [
    {
     "data": {
      "text/html": [
       "<style>.container { width:100% !important; }</style>"
      ],
      "text/plain": [
       "<IPython.core.display.HTML object>"
      ]
     },
     "metadata": {},
     "output_type": "display_data"
    }
   ],
   "source": [
    "import warnings\n",
    "warnings.filterwarnings('ignore')\n",
    "from IPython.core.display import display, HTML\n",
    "display(HTML(\"<style>.container { width:100% !important; }</style>\"))\n",
    "\n",
    "from sklearn.model_selection import train_test_split\n",
    "from sklearn.linear_model import RidgeClassifier\n",
    "import numpy as np\n",
    "\n",
    "from lightonml.datasets import MNIST"
   ]
  },
  {
   "cell_type": "markdown",
   "metadata": {},
   "source": [
    "<style>.container { width:100% !important; }</style>"
   ]
  },
  {
   "cell_type": "code",
   "execution_count": 2,
   "metadata": {},
   "outputs": [],
   "source": [
    "random_state = np.random.RandomState(1234)"
   ]
  },
  {
   "cell_type": "code",
   "execution_count": 3,
   "metadata": {},
   "outputs": [],
   "source": [
    "(X_train, y_train), (X_test, y_test) = MNIST()\n",
    "X, y = np.concatenate([X_train, X_test]), np.concatenate([y_train, y_test])\n",
    "X_train, X_test, y_train, y_test = train_test_split(X, y, test_size=10000,\n",
    "                                                    random_state=42)"
   ]
  },
  {
   "cell_type": "markdown",
   "metadata": {},
   "source": [
    "## OPU pipeline\n",
    "\n",
    "To define a flow of operations, we can conveniently use `sklearn.pipeline.Pipeline`. In this way, we can easily perform cross-validation on the hyperparameters of the model."
   ]
  },
  {
   "cell_type": "code",
   "execution_count": 4,
   "metadata": {},
   "outputs": [],
   "source": [
    "from sklearn.pipeline import Pipeline"
   ]
  },
  {
   "cell_type": "code",
   "execution_count": 5,
   "metadata": {},
   "outputs": [],
   "source": [
    "pipeline_steps = []"
   ]
  },
  {
   "cell_type": "markdown",
   "metadata": {},
   "source": [
    "## Data and data encoding"
   ]
  },
  {
   "cell_type": "code",
   "execution_count": 6,
   "metadata": {},
   "outputs": [],
   "source": [
    "from lightonml.encoding.base import BinaryThresholdEncoder"
   ]
  },
  {
   "cell_type": "code",
   "execution_count": 7,
   "metadata": {},
   "outputs": [
    {
     "name": "stdout",
     "output_type": "stream",
     "text": [
      "Encoder threshold:  24\n"
     ]
    }
   ],
   "source": [
    "encoder = BinaryThresholdEncoder(threshold_enc=24)\n",
    "print('Encoder threshold: ', encoder.threshold_enc)"
   ]
  },
  {
   "cell_type": "code",
   "execution_count": 8,
   "metadata": {},
   "outputs": [],
   "source": [
    "pipeline_steps.append(('encoder', encoder))"
   ]
  },
  {
   "cell_type": "markdown",
   "metadata": {},
   "source": [
    "## Random Mapping on the OPU\n",
    "\n",
    "`OPUMap` can be initialized with `simulated=True` if you run the notebook without access to an OPU. Set `simulated` var to `True` if needed. Note that the number of random projections must be lowered, since simulation has much lower performance than a real OPU."
   ]
  },
  {
   "cell_type": "code",
   "execution_count": 9,
   "metadata": {},
   "outputs": [],
   "source": [
    "from lightonml.projections.sklearn import OPUMap"
   ]
  },
  {
   "cell_type": "code",
   "execution_count": 10,
   "metadata": {},
   "outputs": [],
   "source": [
    "simulated=False  # Change to True if you don't have a real OPU\n",
    "\n",
    "if simulated:\n",
    "    random_mapping = OPUMap(n_components=3000,  # number of random projections\n",
    "                            simulated=True, max_n_features=1000,\n",
    "                            ndims=2)\n",
    "else:\n",
    "    random_mapping = OPUMap(n_components=10000,  # number of random projections\n",
    "                            ndims=2)\n",
    "\n",
    "pipeline_steps.append(('mapping', random_mapping))"
   ]
  },
  {
   "cell_type": "markdown",
   "metadata": {},
   "source": [
    "## Decoding\n",
    "\n",
    "Some encoders, like [SeparatedBitPlanEncoder](../lightonml.encoding.rst#lightonml.encoding.base.SeparatedBitPlanEncoder), need a specific decoder to decode the random features. In this case we don’t need one, so we can use the [NoDecoding](../lightonml.encoding.rst#lightonml.encoding.base.NoDecoding) class or just skip this pipeline step."
   ]
  },
  {
   "cell_type": "code",
   "execution_count": 12,
   "metadata": {},
   "outputs": [],
   "source": [
    "from lightonml.encoding.base import NoDecoding"
   ]
  },
  {
   "cell_type": "code",
   "execution_count": 13,
   "metadata": {},
   "outputs": [],
   "source": [
    "pipeline_steps.append(('decoding', NoDecoding()))"
   ]
  },
  {
   "cell_type": "markdown",
   "metadata": {},
   "source": [
    "## Model"
   ]
  },
  {
   "cell_type": "code",
   "execution_count": 14,
   "metadata": {},
   "outputs": [],
   "source": [
    "classifier = RidgeClassifier()"
   ]
  },
  {
   "cell_type": "code",
   "execution_count": 15,
   "metadata": {},
   "outputs": [],
   "source": [
    "pipeline_steps.append(('classifier', classifier))"
   ]
  },
  {
   "cell_type": "markdown",
   "metadata": {},
   "source": [
    "## Instantiate and run the pipeline"
   ]
  },
  {
   "cell_type": "code",
   "execution_count": 16,
   "metadata": {},
   "outputs": [],
   "source": [
    "pipe = Pipeline(steps=pipeline_steps)"
   ]
  },
  {
   "cell_type": "code",
   "execution_count": 17,
   "metadata": {},
   "outputs": [
    {
     "data": {
      "text/plain": [
       "{'encoder': <lightonml.encoding.base.BinaryThresholdEncoder at 0x7f58e6db6050>,\n",
       " 'mapping': OPUMap(max_n_features=1000, n_components=3000, ndims=2,\n",
       "        opu=<lightonml.opu.OPU object at 0x7f58e6dc6550>, simulated=True,\n",
       "        verbose_level=0),\n",
       " 'decoding': <lightonml.encoding.base.NoDecoding at 0x7f58e6dcc090>,\n",
       " 'classifier': RidgeClassifier()}"
      ]
     },
     "execution_count": 17,
     "metadata": {},
     "output_type": "execute_result"
    }
   ],
   "source": [
    "pipe.named_steps"
   ]
  },
  {
   "cell_type": "markdown",
   "metadata": {},
   "source": [
    "## Opening the OPU"
   ]
  },
  {
   "cell_type": "code",
   "execution_count": 18,
   "metadata": {},
   "outputs": [
    {
     "name": "stdout",
     "output_type": "stream",
     "text": [
      "Fitting the model...\n"
     ]
    },
    {
     "data": {
      "text/plain": [
       "Pipeline(steps=[('encoder',\n",
       "                 <lightonml.encoding.base.BinaryThresholdEncoder object at 0x7f58e6db6050>),\n",
       "                ('mapping',\n",
       "                 OPUMap(max_n_features=1000, n_components=3000, ndims=2,\n",
       "                        opu=<lightonml.opu.OPU object at 0x7f58e6dc6550>,\n",
       "                        simulated=True, verbose_level=0)),\n",
       "                ('decoding',\n",
       "                 <lightonml.encoding.base.NoDecoding object at 0x7f58e6dcc090>),\n",
       "                ('classifier', RidgeClassifier())])"
      ]
     },
     "execution_count": 18,
     "metadata": {},
     "output_type": "execute_result"
    }
   ],
   "source": [
    "print('Fitting the model...')\n",
    "pipe.fit(X_train, y_train)"
   ]
  },
  {
   "cell_type": "code",
   "execution_count": 19,
   "metadata": {},
   "outputs": [
    {
     "name": "stdout",
     "output_type": "stream",
     "text": [
      "Train accuracy 96.99\n",
      "Test accuracy 95.81\n"
     ]
    }
   ],
   "source": [
    "train_accuracy = pipe.score(X_train, y_train)\n",
    "test_accuracy = pipe.score(X_test, y_test)\n",
    "\n",
    "print('Train accuracy {:.2f}'.format(train_accuracy * 100))\n",
    "print('Test accuracy {:.2f}'.format(test_accuracy * 100))"
   ]
  },
  {
   "cell_type": "code",
   "execution_count": 20,
   "metadata": {},
   "outputs": [
    {
     "data": {
      "text/plain": [
       "GridSearchCV(cv=ShuffleSplit(n_splits=2, random_state=None, test_size=0.15, train_size=None),\n",
       "             estimator=Pipeline(steps=[('encoder',\n",
       "                                        <lightonml.encoding.base.BinaryThresholdEncoder object at 0x7f58e6db6050>),\n",
       "                                       ('mapping',\n",
       "                                        OPUMap(max_n_features=1000,\n",
       "                                               n_components=3000, ndims=2,\n",
       "                                               opu=<lightonml.opu.OPU object at 0x7f58e6dc6550>,\n",
       "                                               simulated=True,\n",
       "                                               verbose_level=0)),\n",
       "                                       ('decoding',\n",
       "                                        <lightonml.encoding.base.NoDecoding object at 0x7f58e6dcc090>),\n",
       "                                       ('classifier', RidgeClassifier())]),\n",
       "             param_grid=[{'classifier__alpha': array([0.1, 1. ])}], refit=False,\n",
       "             return_train_score=True, scoring='accuracy')"
      ]
     },
     "execution_count": 20,
     "metadata": {},
     "output_type": "execute_result"
    }
   ],
   "source": [
    "from sklearn.model_selection import ShuffleSplit, GridSearchCV\n",
    "\n",
    "# grid for the values of alpha\n",
    "alpha_values = 10. ** np.arange(-1, 1)\n",
    "# define the parameters grid\n",
    "grid_parameters = [{'classifier__alpha': alpha_values}]\n",
    "\n",
    "# build cross validation scheme\n",
    "cv_scheme = ShuffleSplit(n_splits=2, test_size=0.15)\n",
    "\n",
    "grid_search = GridSearchCV(pipe, grid_parameters, scoring=\"accuracy\", cv=cv_scheme, refit=False, return_train_score=True)\n",
    "grid_search.fit(X_train, y_train)"
   ]
  },
  {
   "cell_type": "code",
   "execution_count": 21,
   "metadata": {},
   "outputs": [
    {
     "data": {
      "text/html": [
       "<div>\n",
       "<style scoped>\n",
       "    .dataframe tbody tr th:only-of-type {\n",
       "        vertical-align: middle;\n",
       "    }\n",
       "\n",
       "    .dataframe tbody tr th {\n",
       "        vertical-align: top;\n",
       "    }\n",
       "\n",
       "    .dataframe thead th {\n",
       "        text-align: right;\n",
       "    }\n",
       "</style>\n",
       "<table border=\"1\" class=\"dataframe\">\n",
       "  <thead>\n",
       "    <tr style=\"text-align: right;\">\n",
       "      <th></th>\n",
       "      <th>mean_fit_time</th>\n",
       "      <th>std_fit_time</th>\n",
       "      <th>mean_score_time</th>\n",
       "      <th>std_score_time</th>\n",
       "      <th>param_classifier__alpha</th>\n",
       "      <th>params</th>\n",
       "      <th>split0_test_score</th>\n",
       "      <th>split1_test_score</th>\n",
       "      <th>mean_test_score</th>\n",
       "      <th>std_test_score</th>\n",
       "      <th>rank_test_score</th>\n",
       "      <th>split0_train_score</th>\n",
       "      <th>split1_train_score</th>\n",
       "      <th>mean_train_score</th>\n",
       "      <th>std_train_score</th>\n",
       "    </tr>\n",
       "  </thead>\n",
       "  <tbody>\n",
       "    <tr>\n",
       "      <th>0</th>\n",
       "      <td>4.585277</td>\n",
       "      <td>0.007682</td>\n",
       "      <td>0.554305</td>\n",
       "      <td>0.011957</td>\n",
       "      <td>0.1</td>\n",
       "      <td>{'classifier__alpha': 0.1}</td>\n",
       "      <td>0.958333</td>\n",
       "      <td>0.958222</td>\n",
       "      <td>0.958278</td>\n",
       "      <td>0.000056</td>\n",
       "      <td>1</td>\n",
       "      <td>0.971373</td>\n",
       "      <td>0.971216</td>\n",
       "      <td>0.971294</td>\n",
       "      <td>0.000078</td>\n",
       "    </tr>\n",
       "    <tr>\n",
       "      <th>1</th>\n",
       "      <td>4.862778</td>\n",
       "      <td>0.232286</td>\n",
       "      <td>0.541315</td>\n",
       "      <td>0.009398</td>\n",
       "      <td>1.0</td>\n",
       "      <td>{'classifier__alpha': 1.0}</td>\n",
       "      <td>0.958333</td>\n",
       "      <td>0.958222</td>\n",
       "      <td>0.958278</td>\n",
       "      <td>0.000056</td>\n",
       "      <td>1</td>\n",
       "      <td>0.971333</td>\n",
       "      <td>0.971157</td>\n",
       "      <td>0.971245</td>\n",
       "      <td>0.000088</td>\n",
       "    </tr>\n",
       "  </tbody>\n",
       "</table>\n",
       "</div>"
      ],
      "text/plain": [
       "   mean_fit_time  std_fit_time  mean_score_time  std_score_time  \\\n",
       "0       4.585277      0.007682         0.554305        0.011957   \n",
       "1       4.862778      0.232286         0.541315        0.009398   \n",
       "\n",
       "  param_classifier__alpha                      params  split0_test_score  \\\n",
       "0                     0.1  {'classifier__alpha': 0.1}           0.958333   \n",
       "1                     1.0  {'classifier__alpha': 1.0}           0.958333   \n",
       "\n",
       "   split1_test_score  mean_test_score  std_test_score  rank_test_score  \\\n",
       "0           0.958222         0.958278        0.000056                1   \n",
       "1           0.958222         0.958278        0.000056                1   \n",
       "\n",
       "   split0_train_score  split1_train_score  mean_train_score  std_train_score  \n",
       "0            0.971373            0.971216          0.971294         0.000078  \n",
       "1            0.971333            0.971157          0.971245         0.000088  "
      ]
     },
     "execution_count": 21,
     "metadata": {},
     "output_type": "execute_result"
    }
   ],
   "source": [
    "import pandas as pd\n",
    "\n",
    "pd.DataFrame.from_dict(grid_search.cv_results_)"
   ]
  }
 ],
 "metadata": {
  "kernelspec": {
   "display_name": "Python 3",
   "language": "python",
   "name": "python3"
  },
  "language_info": {
   "codemirror_mode": {
    "name": "ipython",
    "version": 3
   },
   "file_extension": ".py",
   "mimetype": "text/x-python",
   "name": "python",
   "nbconvert_exporter": "python",
   "pygments_lexer": "ipython3",
   "version": "3.8.5"
  }
 },
 "nbformat": 4,
 "nbformat_minor": 4
}