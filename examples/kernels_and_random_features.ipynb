{
 "cells": [
  {
   "cell_type": "markdown",
   "metadata": {},
   "source": [
    "# Kernel methods and Random features approximation\n",
    "\n",
    "Now let's step into building a whole pipeline.\n",
    "\n",
    "Goals:\n",
    "\n",
    "-  learn about the different ``lightonml`` modules\n",
    "\n",
    "   -  how to load a dataset\n",
    "\n",
    "   -  how to encode data\n",
    "\n",
    "   -  how to perform random projections with the OPU\n",
    "\n",
    "-  learn why changing the dimensionality of data in machine learning\n",
    "   problems is helpful."
   ]
  },
  {
   "cell_type": "code",
   "execution_count": 1,
   "metadata": {},
   "outputs": [
    {
     "data": {
      "text/html": [
       "<style>.container { width:100% !important; }</style>"
      ],
      "text/plain": [
       "<IPython.core.display.HTML object>"
      ]
     },
     "metadata": {},
     "output_type": "display_data"
    }
   ],
   "source": [
    "import warnings\n",
    "warnings.filterwarnings('ignore')\n",
    "from IPython.core.display import display, HTML\n",
    "display(HTML(\"<style>.container { width:100% !important; }</style>\"))\n",
    "\n",
    "import numpy as np\n",
    "import matplotlib.pyplot as plt\n",
    "%matplotlib inline"
   ]
  },
  {
   "cell_type": "code",
   "execution_count": 2,
   "metadata": {},
   "outputs": [],
   "source": [
    "random_state = np.random.RandomState(42)"
   ]
  },
  {
   "cell_type": "markdown",
   "metadata": {},
   "source": [
    "## MNIST dataset\n",
    "\n",
    "\n",
    "The MNIST dataset is composed of 60000 labeled training examples and\n",
    "10000 labeled test examples of handwritten digits. Each image is 28x28\n",
    "and in grayscale. The ``lightonml`` loader offers the images already\n",
    "flattened in arrays of length 784 (28x28). Other datasets are available\n",
    "in ``lightonml.datasets``."
   ]
  },
  {
   "cell_type": "code",
   "execution_count": 3,
   "metadata": {},
   "outputs": [],
   "source": [
    "from lightonml.datasets import MNIST\n",
    "from sklearn.model_selection import train_test_split\n",
    "\n",
    "(X_train, y_train), (X_test, y_test) = MNIST()"
   ]
  },
  {
   "cell_type": "code",
   "execution_count": 4,
   "metadata": {},
   "outputs": [
    {
     "name": "stdout",
     "output_type": "stream",
     "text": [
      "Train examples are arrays of shape (60000, 28, 28) with elements of type uint8.\n",
      "Test examples are arrays of shape (10000, 28, 28) with elements of type uint8.\n"
     ]
    }
   ],
   "source": [
    "print('Train examples are arrays of shape {} with elements of type {}.'.format(X_train.shape,\n",
    "                                                                               X_train.dtype))\n",
    "print('Test examples are arrays of shape {} with elements of type {}.'.format(X_test.shape,\n",
    "                                                                              X_test.dtype))"
   ]
  },
  {
   "cell_type": "code",
   "execution_count": 5,
   "metadata": {},
   "outputs": [
    {
     "data": {
      "text/plain": [
       "<matplotlib.image.AxesImage at 0x7f8972bc8850>"
      ]
     },
     "execution_count": 5,
     "metadata": {},
     "output_type": "execute_result"
    },
    {
     "data": {
      "image/png": "[encoded data removed]",
      "text/plain": [
       "<Figure size 432x288 with 10 Axes>"
      ]
     },
     "metadata": {
      "needs_background": "light"
     },
     "output_type": "display_data"
    }
   ],
   "source": [
    "f, axes = plt.subplots(2, 5, sharex='col', sharey='row')\n",
    "\n",
    "axes[0][0].imshow(X_train[0].reshape(28, 28), cmap='gray')\n",
    "axes[0][1].imshow(X_train[6000].reshape(28, 28), cmap='gray')\n",
    "axes[0][2].imshow(X_train[12669].reshape(28, 28), cmap='gray')\n",
    "axes[0][3].imshow(X_train[19000].reshape(28, 28), cmap='gray')\n",
    "axes[0][4].imshow(X_train[25020].reshape(28, 28), cmap='gray')\n",
    "axes[1][0].imshow(X_train[33000].reshape(28, 28), cmap='gray')\n",
    "axes[1][1].imshow(X_train[39000].reshape(28, 28), cmap='gray')\n",
    "axes[1][2].imshow(X_train[44000].reshape(28, 28), cmap='gray')\n",
    "axes[1][3].imshow(X_train[50000].reshape(28, 28), cmap='gray')\n",
    "axes[1][4].imshow(X_train[55000].reshape(28, 28), cmap='gray')"
   ]
  },
  {
   "cell_type": "code",
   "execution_count": 6,
   "metadata": {},
   "outputs": [],
   "source": [
    "# convert to float and flatten\n",
    "X_train_fp = X_train.astype('float').reshape(-1, 784)\n",
    "X_test_fp = X_test.astype('float').reshape(-1, 784)"
   ]
  },
  {
   "cell_type": "code",
   "execution_count": 7,
   "metadata": {},
   "outputs": [
    {
     "name": "stdout",
     "output_type": "stream",
     "text": [
      "Min: 0, 0\n",
      "Max: 255, 255\n",
      "Min: 0, 0\n",
      "Max: 255, 255\n"
     ]
    }
   ],
   "source": [
    "print('Min: {}, {}'.format(X_train.min(), X_test.min()))\n",
    "print('Max: {}, {}'.format(X_train.max(), X_test.max()))\n",
    "# scale train data\n",
    "X_train_fp /= 255.\n",
    "X_test_fp /= 255.\n",
    "print('Min: {}, {}'.format(X_train.min(), X_test.min()))\n",
    "print('Max: {}, {}'.format(X_train.max(), X_test.max()))"
   ]
  },
  {
   "cell_type": "markdown",
   "metadata": {},
   "source": [
    "Ridge regression is a linear model which solves\n",
    "\n",
    "$$\\underset{\\beta \\in \\mathbb{R}^{p \\times q}}{\\operatorname{argmin}}||\\mathbf{X}\\beta-\\mathbf{Y}||^2_2 + \\gamma||\\beta||^2_2$$\n",
    "\n",
    "where $\\mathbf{X} \\in \\mathbb{R}^{n \\times p}$ are the sample\n",
    "images and $\\mathbf{Y} \\in \\mathbb{R}^{n \\times q}$ are the\n",
    "one-hot encoded labels, while $\\beta$ are the parameters of the\n",
    "model.\n",
    "\n",
    "$n$ is the number of samples, $p$ the number of original features, $q$ the number of classes.\n"
   ]
  },
  {
   "cell_type": "code",
   "execution_count": 8,
   "metadata": {},
   "outputs": [
    {
     "name": "stdout",
     "output_type": "stream",
     "text": [
      "Train accuracy: 0.8574\n",
      "Test accuracy: 0.8604\n"
     ]
    }
   ],
   "source": [
    "from sklearn.linear_model import RidgeClassifier\n",
    "\n",
    "clf = RidgeClassifier()\n",
    "clf.fit(X_train_fp, y_train)\n",
    "train_score = clf.score(X_train_fp, y_train)\n",
    "test_score = clf.score(X_test_fp, y_test)\n",
    "\n",
    "print(\"Train accuracy: {:.4f}\".format(train_score))\n",
    "print(\"Test accuracy: {:.4f}\".format(test_score))"
   ]
  },
  {
   "cell_type": "markdown",
   "metadata": {},
   "source": [
    "## Kernel Ridge Classification and Approximating Kernels\n",
    "\n",
    "The performance of the standard ridge regression is quite poor, we can\n",
    "improve it using the kernel trick, but this approach has a major\n",
    "drawback: we need to invert an $n \\times n$ matrix and matrix\n",
    "inversion is an $O(n^3)$ operation.\n",
    "\n",
    "We can follow *Random features for large-scale kernel machines*, A.\n",
    "Rahimi and B. Recht (2007) and solve a standard ridge regression on a\n",
    "nonlinear mapping of the data to a new feature space of a different\n",
    "dimension.\n",
    "\n",
    "Our nonlinear mapping is a linear random projection\n",
    "$\\mathbf{R} \\in \\mathbb{C}^{m \\times p}$ followed by a nonlinear\n",
    "function $\\Phi$:\n",
    "\n",
    "$$\\mathbf{X_{new}} = \\Phi(\\mathbf{R}\\mathbf{X})$$\n",
    "\n",
    "If we choose $m=10000$, we have now to invert a matrix of size\n",
    "$10000^2$ instead of $60000^2$.\n",
    "\n",
    "When the number of random projections $m$ tends to infinity, the\n",
    "inner product between the projected data points approximates a kernel\n",
    "function, due to the concentration of measure (*Computation with\n",
    "infinite neural networks*, C. Williams, 1998).\n",
    "\n",
    "Random projections have allowed to deal with large-scale machine\n",
    "learning problem, reaching the point where storing the random matrix and\n",
    "computing the random features has become the bottleneck of the\n",
    "algorithm.\n",
    "\n",
    "We can use the OPU to overcome these problems and compute the random\n",
    "mapping very quickly and without the need to store a large random matrix.\n",
    "We can then solve the ridge regression problem on the random features."
   ]
  },
  {
   "cell_type": "markdown",
   "metadata": {},
   "source": [
    "## OPU pipeline\n",
    "\n",
    "### Data and data encoding\n",
    "\n",
    "The OPU requires a **binary matrix** of type ``uint8`` as input, so we\n",
    "need to encode our data in binary format. It can be done by using one of\n",
    "the ``Encoders`` provided in ``lightonml.encoding`` or by building a\n",
    "custom one.\n",
    "\n",
    "For grayscale images like MNIST, we can use a very simple\n",
    "``BinaryThresholdEncoder``, that receives an array of ``uint8`` between\n",
    "0 and 255 as input and returns an array of zeros and ones of type\n",
    "``uint8`` according to a threshold. ``SeparatedBitPlanEncoder`` and its\n",
    "companion ``MixingBitPlanDecoder`` instead work nicely with RGB images.\n",
    "\n",
    "Another possibility is to train an autoencoder from ``lightonml.encoding.models`` \n",
    "on your data."
   ]
  },
  {
   "cell_type": "code",
   "execution_count": 9,
   "metadata": {},
   "outputs": [],
   "source": [
    "from lightonml.encoding.base import BinaryThresholdEncoder"
   ]
  },
  {
   "cell_type": "code",
   "execution_count": 10,
   "metadata": {},
   "outputs": [
    {
     "name": "stdout",
     "output_type": "stream",
     "text": [
      "Encoder threshold:  25\n"
     ]
    }
   ],
   "source": [
    "encoder = BinaryThresholdEncoder()\n",
    "print('Encoder threshold: ', encoder.threshold_enc)"
   ]
  },
  {
   "cell_type": "code",
   "execution_count": 11,
   "metadata": {},
   "outputs": [],
   "source": [
    "X_train_encoded = encoder.transform(X_train)\n",
    "X_test_encoded = encoder.transform(X_test)"
   ]
  },
  {
   "cell_type": "markdown",
   "metadata": {},
   "source": [
    "## Random Mapping on the OPU\n",
    "\n",
    "To use the OPU, we need to initialize an ``OPUMap`` object."
   ]
  },
  {
   "cell_type": "code",
   "execution_count": 12,
   "metadata": {},
   "outputs": [],
   "source": [
    "from lightonml.projections.sklearn import OPUMap"
   ]
  },
  {
   "cell_type": "markdown",
   "metadata": {},
   "source": [
    "Passing `ndims=2` will let the software know that the input is 2D. This parameter will be used in the selection of the optimal display on the input device."
   ]
  },
  {
   "cell_type": "code",
   "execution_count": 13,
   "metadata": {
    "scrolled": true
   },
   "outputs": [],
   "source": [
    "n_components = 10000 # number of random projections\n",
    "random_mapping = OPUMap(n_components=n_components, ndims=2)"
   ]
  },
  {
   "cell_type": "markdown",
   "metadata": {},
   "source": [
    "When `OPUMap` is initialized with `opu=None` (default value), an `OPU` object attribute is created: `random_mapping.opu` and the OPU resource is acquired. Resource acquisition takes 3-5 seconds and is a one-time cost. \n",
    "The first time you want to transform data through an OPU, you need to call the `fit` method, this will set some internal parameters (e.g. how the input is displayed on the input device) to optimize the quality of the operation. Calling `fit` on different input arrays may affect the result. You can perform the `fit` and the `transform` with a single function call using the `fit_transform` method."
   ]
  },
  {
   "cell_type": "code",
   "execution_count": 14,
   "metadata": {},
   "outputs": [],
   "source": [
    "train_random_features = random_mapping.fit_transform(X_train_encoded)\n",
    "test_random_features = random_mapping.transform(X_test_encoded)"
   ]
  },
  {
   "cell_type": "markdown",
   "metadata": {},
   "source": [
    "The output type is `uint8`, following operations might be faster converting this to `float32`."
   ]
  },
  {
   "cell_type": "code",
   "execution_count": 15,
   "metadata": {},
   "outputs": [
    {
     "data": {
      "text/plain": [
       "(dtype('uint8'), dtype('uint8'))"
      ]
     },
     "execution_count": 15,
     "metadata": {},
     "output_type": "execute_result"
    }
   ],
   "source": [
    "train_random_features.dtype, test_random_features.dtype"
   ]
  },
  {
   "cell_type": "code",
   "execution_count": 16,
   "metadata": {},
   "outputs": [],
   "source": [
    "train_random_features = train_random_features.astype('float32')\n",
    "test_random_features = test_random_features.astype('float32')"
   ]
  },
  {
   "cell_type": "markdown",
   "metadata": {},
   "source": [
    "### Decoding\n",
    "\n",
    "Some encoders, like ``SeparatedBitPlanEncoder``, need a specific decoder\n",
    "to decode the random features (``MixingBitPlanDecoder``). In this case\n",
    "we don't need one.\n",
    "\n",
    "### Model\n",
    "\n",
    "We will obtain a much better performance than before by using a linear\n",
    "classifier on the non-linear features."
   ]
  },
  {
   "cell_type": "code",
   "execution_count": 17,
   "metadata": {},
   "outputs": [],
   "source": [
    "classifier = RidgeClassifier()"
   ]
  },
  {
   "cell_type": "code",
   "execution_count": 18,
   "metadata": {},
   "outputs": [
    {
     "name": "stdout",
     "output_type": "stream",
     "text": [
      "Train accuracy: 98.65 Test accuracy: 96.57\n"
     ]
    }
   ],
   "source": [
    "classifier.fit(train_random_features, y_train)\n",
    "train_accuracy = classifier.score(train_random_features, y_train)\n",
    "test_accuracy = classifier.score(test_random_features, y_test)\n",
    "\n",
    "print('Train accuracy: {:.2f} Test accuracy: {:.2f}'.format(train_accuracy * 100, test_accuracy * 100))"
   ]
  }
 ],
 "metadata": {
  "kernelspec": {
   "display_name": "Python 3",
   "language": "python",
   "name": "python3"
  },
  "language_info": {
   "codemirror_mode": {
    "name": "ipython",
    "version": 3
   },
   "file_extension": ".py",
   "mimetype": "text/x-python",
   "name": "python",
   "nbconvert_exporter": "python",
   "pygments_lexer": "ipython3",
   "version": "3.7.6"
  }
 },
 "nbformat": 4,
 "nbformat_minor": 4
}